{
 "cells": [
  {
   "cell_type": "code",
   "execution_count": 1,
   "outputs": [
    {
     "name": "stdout",
     "output_type": "stream",
     "text": [
      "Starting to parse FermionOperator using 6 qubits...\n",
      "\n",
      "Operator t:  (-0.09886396933545855+0j) []\n",
      "Term, coeff:  () (-0.09886396933545855+0j)\n",
      "Operator t:  (0.17119774903433+0j) [Z0]\n",
      "Term, coeff:  ((0, 'Z'),) (0.17119774903433+0j)\n",
      "Index, p_char:  0 Z\n",
      "Operator t:  (0.17119774903432997+0j) [Z0 Z1]\n",
      "Term, coeff:  ((0, 'Z'), (1, 'Z')) (0.17119774903432997+0j)\n",
      "Index, p_char:  0 Z\n",
      "Index, p_char:  1 Z\n",
      "Operator t:  (-0.22278593040418473+0j) [Z2]\n",
      "Term, coeff:  ((2, 'Z'),) (-0.22278593040418473+0j)\n",
      "Index, p_char:  2 Z\n",
      "Operator t:  (-0.2227859304041847+0j) [Z1 Z2 Z3]\n",
      "Term, coeff:  ((1, 'Z'), (2, 'Z'), (3, 'Z')) (-0.2227859304041847+0j)\n",
      "Index, p_char:  1 Z\n",
      "Index, p_char:  2 Z\n",
      "Index, p_char:  3 Z\n",
      "Operator t:  (0.1686221915892095+0j) [Z1]\n",
      "Term, coeff:  ((1, 'Z'),) (0.1686221915892095+0j)\n",
      "Index, p_char:  1 Z\n",
      "Operator t:  (0.04532220205287401+0j) [Y0 Z1 Y2 Z3]\n",
      "Term, coeff:  ((0, 'Y'), (1, 'Z'), (2, 'Y'), (3, 'Z')) (0.04532220205287401+0j)\n",
      "Index, p_char:  0 Y\n",
      "Index, p_char:  1 Z\n",
      "Index, p_char:  2 Y\n",
      "Index, p_char:  3 Z\n",
      "Operator t:  (0.04532220205287401+0j) [X0 Z1 X2]\n",
      "Term, coeff:  ((0, 'X'), (1, 'Z'), (2, 'X')) (0.04532220205287401+0j)\n",
      "Index, p_char:  0 X\n",
      "Index, p_char:  1 Z\n",
      "Index, p_char:  2 X\n",
      "Operator t:  (0.04532220205287401+0j) [X0 Z1 X2 Z3]\n",
      "Term, coeff:  ((0, 'X'), (1, 'Z'), (2, 'X'), (3, 'Z')) (0.04532220205287401+0j)\n",
      "Index, p_char:  0 X\n",
      "Index, p_char:  1 Z\n",
      "Index, p_char:  2 X\n",
      "Index, p_char:  3 Z\n",
      "Operator t:  (0.04532220205287401+0j) [Y0 Z1 Y2]\n",
      "Term, coeff:  ((0, 'Y'), (1, 'Z'), (2, 'Y')) (0.04532220205287401+0j)\n",
      "Index, p_char:  0 Y\n",
      "Index, p_char:  1 Z\n",
      "Index, p_char:  2 Y\n",
      "Operator t:  (0.12054482205301797+0j) [Z0 Z2]\n",
      "Term, coeff:  ((0, 'Z'), (2, 'Z')) (0.12054482205301797+0j)\n",
      "Index, p_char:  0 Z\n",
      "Index, p_char:  2 Z\n",
      "Operator t:  (0.165867024105892+0j) [Z0 Z1 Z2 Z3]\n",
      "Term, coeff:  ((0, 'Z'), (1, 'Z'), (2, 'Z'), (3, 'Z')) (0.165867024105892+0j)\n",
      "Index, p_char:  0 Z\n",
      "Index, p_char:  1 Z\n",
      "Index, p_char:  2 Z\n",
      "Index, p_char:  3 Z\n",
      "Operator t:  (0.165867024105892+0j) [Z0 Z1 Z2]\n",
      "Term, coeff:  ((0, 'Z'), (1, 'Z'), (2, 'Z')) (0.165867024105892+0j)\n",
      "Index, p_char:  0 Z\n",
      "Index, p_char:  1 Z\n",
      "Index, p_char:  2 Z\n",
      "Operator t:  (0.12054482205301797+0j) [Z0 Z2 Z3]\n",
      "Term, coeff:  ((0, 'Z'), (2, 'Z'), (3, 'Z')) (0.12054482205301797+0j)\n",
      "Index, p_char:  0 Z\n",
      "Index, p_char:  2 Z\n",
      "Index, p_char:  3 Z\n",
      "Operator t:  (0.17434844185575687+0j) [Z1 Z3]\n",
      "Term, coeff:  ((1, 'Z'), (3, 'Z')) (0.17434844185575687+0j)\n",
      "Index, p_char:  1 Z\n",
      "Index, p_char:  3 Z\n"
     ]
    }
   ],
   "source": [
    "from molecule import DiatomicMolecularHamiltonian\n",
    "\n",
    "hamiltonian = DiatomicMolecularHamiltonian(nqubit=6, basis=\"sto-3g\", atom1_type=\"H\", atom2_type=\"H\",\n",
    "                                        diatomic_bond_length=0.7414)"
   ],
   "metadata": {
    "collapsed": false,
    "ExecuteTime": {
     "end_time": "2023-08-16T22:44:42.547202Z",
     "start_time": "2023-08-16T22:44:39.437904Z"
    }
   }
  },
  {
   "cell_type": "code",
   "execution_count": 2,
   "outputs": [],
   "source": [
    "import tequila as tq\n",
    "\n",
    "\n",
    "def generate_molecule(atom1type, atom2type, bond_length, basis_set, active_orbitals=None):\n",
    "    geometry = (f\"{atom1type} 0.0 0.0 0.0\\n\" +\n",
    "                f\"{atom2type} 0.0 0.0 {bond_length}\")\n",
    "    if active_orbitals is not None:\n",
    "        return tq.chemistry.Molecule(geometry=geometry,\n",
    "                                     basis_set=basis_set,\n",
    "                                     active_orbitals=active_orbitals)\n",
    "    return tq.chemistry.Molecule(geometry=geometry, basis_set=basis_set)"
   ],
   "metadata": {
    "collapsed": false,
    "pycharm": {
     "is_executing": true
    },
    "ExecuteTime": {
     "end_time": "2023-08-16T22:44:42.552849Z",
     "start_time": "2023-08-16T22:44:42.551335Z"
    }
   }
  },
  {
   "cell_type": "code",
   "execution_count": 3,
   "outputs": [
    {
     "name": "stdout",
     "output_type": "stream",
     "text": [
      "converged SCF energy = -1.11668438708534\n",
      "Starting to parse FermionOperator using 4 qubits...\n",
      "\n",
      "Operator t:  -0.09886396933545816 [] +\n",
      "0.04532220205287399 [X0 Z1 X2] +\n",
      "0.04532220205287399 [X0 Z1 X2 Z3] +\n",
      "0.04532220205287399 [Y0 Z1 Y2] +\n",
      "0.04532220205287399 [Y0 Z1 Y2 Z3] +\n",
      "0.17119774903432977 [Z0] +\n",
      "0.17119774903432972 [Z0 Z1] +\n",
      "0.165867024105892 [Z0 Z1 Z2] +\n",
      "0.165867024105892 [Z0 Z1 Z2 Z3] +\n",
      "0.12054482205301804 [Z0 Z2] +\n",
      "0.12054482205301804 [Z0 Z2 Z3] +\n",
      "0.1686221915892094 [Z1] +\n",
      "-0.2227859304041847 [Z1 Z2 Z3] +\n",
      "0.17434844185575682 [Z1 Z3] +\n",
      "-0.22278593040418473 [Z2]\n",
      "Term, coeff:  () -0.09886396933545816\n",
      "Term, coeff:  ((0, 'Z'),) 0.17119774903432977\n",
      "Index, p_char:  0 Z\n",
      "Term, coeff:  ((0, 'Z'), (1, 'Z')) 0.17119774903432972\n",
      "Index, p_char:  0 Z\n",
      "Index, p_char:  1 Z\n",
      "Term, coeff:  ((2, 'Z'),) -0.22278593040418473\n",
      "Index, p_char:  2 Z\n",
      "Term, coeff:  ((1, 'Z'), (2, 'Z'), (3, 'Z')) -0.2227859304041847\n",
      "Index, p_char:  1 Z\n",
      "Index, p_char:  2 Z\n",
      "Index, p_char:  3 Z\n",
      "Term, coeff:  ((1, 'Z'),) 0.1686221915892094\n",
      "Index, p_char:  1 Z\n",
      "Term, coeff:  ((0, 'Y'), (1, 'Z'), (2, 'Y'), (3, 'Z')) 0.04532220205287399\n",
      "Index, p_char:  0 Y\n",
      "Index, p_char:  1 Z\n",
      "Index, p_char:  2 Y\n",
      "Index, p_char:  3 Z\n",
      "Term, coeff:  ((0, 'X'), (1, 'Z'), (2, 'X')) 0.04532220205287399\n",
      "Index, p_char:  0 X\n",
      "Index, p_char:  1 Z\n",
      "Index, p_char:  2 X\n",
      "Term, coeff:  ((0, 'X'), (1, 'Z'), (2, 'X'), (3, 'Z')) 0.04532220205287399\n",
      "Index, p_char:  0 X\n",
      "Index, p_char:  1 Z\n",
      "Index, p_char:  2 X\n",
      "Index, p_char:  3 Z\n",
      "Term, coeff:  ((0, 'Y'), (1, 'Z'), (2, 'Y')) 0.04532220205287399\n",
      "Index, p_char:  0 Y\n",
      "Index, p_char:  1 Z\n",
      "Index, p_char:  2 Y\n",
      "Term, coeff:  ((0, 'Z'), (2, 'Z')) 0.12054482205301804\n",
      "Index, p_char:  0 Z\n",
      "Index, p_char:  2 Z\n",
      "Term, coeff:  ((0, 'Z'), (1, 'Z'), (2, 'Z'), (3, 'Z')) 0.165867024105892\n",
      "Index, p_char:  0 Z\n",
      "Index, p_char:  1 Z\n",
      "Index, p_char:  2 Z\n",
      "Index, p_char:  3 Z\n",
      "Term, coeff:  ((0, 'Z'), (1, 'Z'), (2, 'Z')) 0.165867024105892\n",
      "Index, p_char:  0 Z\n",
      "Index, p_char:  1 Z\n",
      "Index, p_char:  2 Z\n",
      "Term, coeff:  ((0, 'Z'), (2, 'Z'), (3, 'Z')) 0.12054482205301804\n",
      "Index, p_char:  0 Z\n",
      "Index, p_char:  2 Z\n",
      "Index, p_char:  3 Z\n",
      "Term, coeff:  ((1, 'Z'), (3, 'Z')) 0.17434844185575682\n",
      "Index, p_char:  1 Z\n",
      "Index, p_char:  3 Z\n",
      "ZIII,ZZII,IIZI,IZZZ,IZII,YZYZ,XZXI,XZXZ,YZYI,ZIZI,ZZZZ,ZZZI,ZIZZ,IZIZ\n",
      "0.17119774903432977,0.17119774903432972,-0.22278593040418473,-0.2227859304041847,0.1686221915892094,0.04532220205287399,0.04532220205287399,0.04532220205287399,0.04532220205287399,0.12054482205301804,0.165867024105892,0.165867024105892,0.12054482205301804,0.17434844185575682\n"
     ]
    }
   ],
   "source": [
    "molecule = generate_molecule(atom1type=\"H\", atom2type=\"H\",\n",
    "                             bond_length=0.7414, basis_set=\"sto-3g\")\n",
    "hamiltonian = DiatomicMolecularHamiltonian(molecule)\n",
    "print(hamiltonian)"
   ],
   "metadata": {
    "collapsed": false,
    "ExecuteTime": {
     "end_time": "2023-08-16T22:44:42.675387Z",
     "start_time": "2023-08-16T22:44:42.553767Z"
    }
   }
  }
 ],
 "metadata": {
  "kernelspec": {
   "display_name": "Python 3",
   "language": "python",
   "name": "python3"
  },
  "language_info": {
   "codemirror_mode": {
    "name": "ipython",
    "version": 2
   },
   "file_extension": ".py",
   "mimetype": "text/x-python",
   "name": "python",
   "nbconvert_exporter": "python",
   "pygments_lexer": "ipython2",
   "version": "2.7.6"
  }
 },
 "nbformat": 4,
 "nbformat_minor": 0
}
