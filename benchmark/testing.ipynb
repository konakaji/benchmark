{
 "cells": [
  {
   "cell_type": "code",
   "execution_count": 1,
   "outputs": [
    {
     "name": "stdout",
     "output_type": "stream",
     "text": [
      "Starting to parse FermionOperator using 6 qubits...\n",
      "\n",
      "Operator t:  (-0.09886396933545855+0j) []\n",
      "Term, coeff:  () (-0.09886396933545855+0j)\n",
      "Operator t:  (0.17119774903433+0j) [Z0]\n",
      "Term, coeff:  ((0, 'Z'),) (0.17119774903433+0j)\n",
      "Index, p_char:  0 Z\n",
      "Operator t:  (0.17119774903432997+0j) [Z0 Z1]\n",
      "Term, coeff:  ((0, 'Z'), (1, 'Z')) (0.17119774903432997+0j)\n",
      "Index, p_char:  0 Z\n",
      "Index, p_char:  1 Z\n",
      "Operator t:  (-0.22278593040418473+0j) [Z2]\n",
      "Term, coeff:  ((2, 'Z'),) (-0.22278593040418473+0j)\n",
      "Index, p_char:  2 Z\n",
      "Operator t:  (-0.2227859304041847+0j) [Z1 Z2 Z3]\n",
      "Term, coeff:  ((1, 'Z'), (2, 'Z'), (3, 'Z')) (-0.2227859304041847+0j)\n",
      "Index, p_char:  1 Z\n",
      "Index, p_char:  2 Z\n",
      "Index, p_char:  3 Z\n",
      "Operator t:  (0.1686221915892095+0j) [Z1]\n",
      "Term, coeff:  ((1, 'Z'),) (0.1686221915892095+0j)\n",
      "Index, p_char:  1 Z\n",
      "Operator t:  (0.04532220205287401+0j) [Y0 Z1 Y2 Z3]\n",
      "Term, coeff:  ((0, 'Y'), (1, 'Z'), (2, 'Y'), (3, 'Z')) (0.04532220205287401+0j)\n",
      "Index, p_char:  0 Y\n",
      "Index, p_char:  1 Z\n",
      "Index, p_char:  2 Y\n",
      "Index, p_char:  3 Z\n",
      "Operator t:  (0.04532220205287401+0j) [X0 Z1 X2]\n",
      "Term, coeff:  ((0, 'X'), (1, 'Z'), (2, 'X')) (0.04532220205287401+0j)\n",
      "Index, p_char:  0 X\n",
      "Index, p_char:  1 Z\n",
      "Index, p_char:  2 X\n",
      "Operator t:  (0.04532220205287401+0j) [X0 Z1 X2 Z3]\n",
      "Term, coeff:  ((0, 'X'), (1, 'Z'), (2, 'X'), (3, 'Z')) (0.04532220205287401+0j)\n",
      "Index, p_char:  0 X\n",
      "Index, p_char:  1 Z\n",
      "Index, p_char:  2 X\n",
      "Index, p_char:  3 Z\n",
      "Operator t:  (0.04532220205287401+0j) [Y0 Z1 Y2]\n",
      "Term, coeff:  ((0, 'Y'), (1, 'Z'), (2, 'Y')) (0.04532220205287401+0j)\n",
      "Index, p_char:  0 Y\n",
      "Index, p_char:  1 Z\n",
      "Index, p_char:  2 Y\n",
      "Operator t:  (0.12054482205301797+0j) [Z0 Z2]\n",
      "Term, coeff:  ((0, 'Z'), (2, 'Z')) (0.12054482205301797+0j)\n",
      "Index, p_char:  0 Z\n",
      "Index, p_char:  2 Z\n",
      "Operator t:  (0.165867024105892+0j) [Z0 Z1 Z2 Z3]\n",
      "Term, coeff:  ((0, 'Z'), (1, 'Z'), (2, 'Z'), (3, 'Z')) (0.165867024105892+0j)\n",
      "Index, p_char:  0 Z\n",
      "Index, p_char:  1 Z\n",
      "Index, p_char:  2 Z\n",
      "Index, p_char:  3 Z\n",
      "Operator t:  (0.165867024105892+0j) [Z0 Z1 Z2]\n",
      "Term, coeff:  ((0, 'Z'), (1, 'Z'), (2, 'Z')) (0.165867024105892+0j)\n",
      "Index, p_char:  0 Z\n",
      "Index, p_char:  1 Z\n",
      "Index, p_char:  2 Z\n",
      "Operator t:  (0.12054482205301797+0j) [Z0 Z2 Z3]\n",
      "Term, coeff:  ((0, 'Z'), (2, 'Z'), (3, 'Z')) (0.12054482205301797+0j)\n",
      "Index, p_char:  0 Z\n",
      "Index, p_char:  2 Z\n",
      "Index, p_char:  3 Z\n",
      "Operator t:  (0.17434844185575687+0j) [Z1 Z3]\n",
      "Term, coeff:  ((1, 'Z'), (3, 'Z')) (0.17434844185575687+0j)\n",
      "Index, p_char:  1 Z\n",
      "Index, p_char:  3 Z\n"
     ]
    }
   ],
   "source": [
    "from molecule import DiatomicMolecularHamiltonian\n",
    "\n",
    "hamiltonian = DiatomicMolecularHamiltonian(nqubit=6, basis=\"sto-3g\", atom1_type=\"H\", atom2_type=\"H\",\n",
    "                                        diatomic_bond_length=0.7414)"
   ],
   "metadata": {
    "collapsed": false,
    "ExecuteTime": {
     "end_time": "2023-08-18T21:23:37.349084Z",
     "start_time": "2023-08-18T21:23:34.065077Z"
    }
   }
  },
  {
   "cell_type": "code",
   "execution_count": 2,
   "outputs": [],
   "source": [
    "import tequila as tq\n",
    "\n",
    "\n",
    "def generate_molecule(atom1type, atom2type, bond_length, basis_set, active_orbitals=None):\n",
    "    geometry = (f\"{atom1type} 0.0 0.0 0.0\\n\" +\n",
    "                f\"{atom2type} 0.0 0.0 {bond_length}\")\n",
    "    if active_orbitals is not None:\n",
    "        return tq.chemistry.Molecule(geometry=geometry,\n",
    "                                     basis_set=basis_set,\n",
    "                                     active_orbitals=active_orbitals)\n",
    "    return tq.chemistry.Molecule(geometry=geometry, basis_set=basis_set)"
   ],
   "metadata": {
    "collapsed": false,
    "pycharm": {
     "is_executing": true
    },
    "ExecuteTime": {
     "end_time": "2023-08-18T21:23:37.354697Z",
     "start_time": "2023-08-18T21:23:37.353092Z"
    }
   }
  },
  {
   "cell_type": "code",
   "execution_count": 3,
   "outputs": [
    {
     "name": "stdout",
     "output_type": "stream",
     "text": [
      "converged SCF energy = -1.0429962745401\n",
      "Starting to parse FermionOperator using 4 qubits...\n",
      "\n",
      "Operator t:  0.379831351780953 [] +\n",
      "0.042217556922433806 [X0 Z1 X2] +\n",
      "0.042217556922433806 [X0 Z1 X2 Z3] +\n",
      "0.042217556922433806 [Y0 Z1 Y2] +\n",
      "0.042217556922433806 [Y0 Z1 Y2 Z3] +\n",
      "0.21393531024521328 [Z0] +\n",
      "0.2139353102452133 [Z0 Z1] +\n",
      "0.17680996038612226 [Z0 Z1 Z2] +\n",
      "0.17680996038612226 [Z0 Z1 Z2 Z3] +\n",
      "0.13459240346368848 [Z0 Z2] +\n",
      "0.13459240346368848 [Z0 Z2 Z3] +\n",
      "0.17992650976405974 [Z1] +\n",
      "-0.369144315243766 [Z1 Z2 Z3] +\n",
      "0.18620984259247156 [Z1 Z3] +\n",
      "-0.36914431524376606 [Z2]\n",
      "Term, coeff:  () 0.379831351780953\n",
      "Term, coeff:  ((0, 'Z'),) 0.21393531024521328\n",
      "Index, p_char:  0 Z\n",
      "Term, coeff:  ((0, 'Z'), (1, 'Z')) 0.2139353102452133\n",
      "Index, p_char:  0 Z\n",
      "Index, p_char:  1 Z\n",
      "Term, coeff:  ((2, 'Z'),) -0.36914431524376606\n",
      "Index, p_char:  2 Z\n",
      "Term, coeff:  ((1, 'Z'), (2, 'Z'), (3, 'Z')) -0.369144315243766\n",
      "Index, p_char:  1 Z\n",
      "Index, p_char:  2 Z\n",
      "Index, p_char:  3 Z\n",
      "Term, coeff:  ((1, 'Z'),) 0.17992650976405974\n",
      "Index, p_char:  1 Z\n",
      "Term, coeff:  ((0, 'Y'), (1, 'Z'), (2, 'Y'), (3, 'Z')) 0.042217556922433806\n",
      "Index, p_char:  0 Y\n",
      "Index, p_char:  1 Z\n",
      "Index, p_char:  2 Y\n",
      "Index, p_char:  3 Z\n",
      "Term, coeff:  ((0, 'X'), (1, 'Z'), (2, 'X')) 0.042217556922433806\n",
      "Index, p_char:  0 X\n",
      "Index, p_char:  1 Z\n",
      "Index, p_char:  2 X\n",
      "Term, coeff:  ((0, 'X'), (1, 'Z'), (2, 'X'), (3, 'Z')) 0.042217556922433806\n",
      "Index, p_char:  0 X\n",
      "Index, p_char:  1 Z\n",
      "Index, p_char:  2 X\n",
      "Index, p_char:  3 Z\n",
      "Term, coeff:  ((0, 'Y'), (1, 'Z'), (2, 'Y')) 0.042217556922433806\n",
      "Index, p_char:  0 Y\n",
      "Index, p_char:  1 Z\n",
      "Index, p_char:  2 Y\n",
      "Term, coeff:  ((0, 'Z'), (2, 'Z')) 0.13459240346368848\n",
      "Index, p_char:  0 Z\n",
      "Index, p_char:  2 Z\n",
      "Term, coeff:  ((0, 'Z'), (1, 'Z'), (2, 'Z'), (3, 'Z')) 0.17680996038612226\n",
      "Index, p_char:  0 Z\n",
      "Index, p_char:  1 Z\n",
      "Index, p_char:  2 Z\n",
      "Index, p_char:  3 Z\n",
      "Term, coeff:  ((0, 'Z'), (1, 'Z'), (2, 'Z')) 0.17680996038612226\n",
      "Index, p_char:  0 Z\n",
      "Index, p_char:  1 Z\n",
      "Index, p_char:  2 Z\n",
      "Term, coeff:  ((0, 'Z'), (2, 'Z'), (3, 'Z')) 0.13459240346368848\n",
      "Index, p_char:  0 Z\n",
      "Index, p_char:  2 Z\n",
      "Index, p_char:  3 Z\n",
      "Term, coeff:  ((1, 'Z'), (3, 'Z')) 0.18620984259247156\n",
      "Index, p_char:  1 Z\n",
      "Index, p_char:  3 Z\n",
      "-1.0551597944706252\n"
     ]
    }
   ],
   "source": [
    "molecule = generate_molecule(atom1type=\"H\", atom2type=\"H\",\n",
    "                             bond_length=0.7414, basis_set=\"sto-3g\")\n",
    "hamiltonian = DiatomicMolecularHamiltonian(molecule)\n",
    "print(hamiltonian)"
   ],
   "metadata": {
    "collapsed": false,
    "ExecuteTime": {
     "end_time": "2023-08-18T21:23:37.488582Z",
     "start_time": "2023-08-18T21:23:37.421399Z"
    }
   }
  }
 ],
 "metadata": {
  "kernelspec": {
   "display_name": "Python 3",
   "language": "python",
   "name": "python3"
  },
  "language_info": {
   "codemirror_mode": {
    "name": "ipython",
    "version": 2
   },
   "file_extension": ".py",
   "mimetype": "text/x-python",
   "name": "python",
   "nbconvert_exporter": "python",
   "pygments_lexer": "ipython2",
   "version": "2.7.6"
  }
 },
 "nbformat": 4,
 "nbformat_minor": 0
}
