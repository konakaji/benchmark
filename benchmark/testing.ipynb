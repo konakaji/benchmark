{
 "cells": [
  {
   "cell_type": "code",
   "execution_count": 1,
   "outputs": [
    {
     "name": "stdout",
     "output_type": "stream",
     "text": [
      "Starting to parse FermionOperator using 6 qubits...\n",
      "\n",
      "Operator t:  (-0.09886396933545855+0j) []\n",
      "Term, coeff:  () (-0.09886396933545855+0j)\n",
      "Operator t:  (0.17119774903433+0j) [Z0]\n",
      "Term, coeff:  ((0, 'Z'),) (0.17119774903433+0j)\n",
      "Index, p_char:  0 Z\n",
      "Operator t:  (0.17119774903432997+0j) [Z0 Z1]\n",
      "Term, coeff:  ((0, 'Z'), (1, 'Z')) (0.17119774903432997+0j)\n",
      "Index, p_char:  0 Z\n",
      "Index, p_char:  1 Z\n",
      "Operator t:  (-0.22278593040418473+0j) [Z2]\n",
      "Term, coeff:  ((2, 'Z'),) (-0.22278593040418473+0j)\n",
      "Index, p_char:  2 Z\n",
      "Operator t:  (-0.2227859304041847+0j) [Z1 Z2 Z3]\n",
      "Term, coeff:  ((1, 'Z'), (2, 'Z'), (3, 'Z')) (-0.2227859304041847+0j)\n",
      "Index, p_char:  1 Z\n",
      "Index, p_char:  2 Z\n",
      "Index, p_char:  3 Z\n",
      "Operator t:  (0.1686221915892095+0j) [Z1]\n",
      "Term, coeff:  ((1, 'Z'),) (0.1686221915892095+0j)\n",
      "Index, p_char:  1 Z\n",
      "Operator t:  (0.04532220205287401+0j) [Y0 Z1 Y2 Z3]\n",
      "Term, coeff:  ((0, 'Y'), (1, 'Z'), (2, 'Y'), (3, 'Z')) (0.04532220205287401+0j)\n",
      "Index, p_char:  0 Y\n",
      "Index, p_char:  1 Z\n",
      "Index, p_char:  2 Y\n",
      "Index, p_char:  3 Z\n",
      "Operator t:  (0.04532220205287401+0j) [X0 Z1 X2]\n",
      "Term, coeff:  ((0, 'X'), (1, 'Z'), (2, 'X')) (0.04532220205287401+0j)\n",
      "Index, p_char:  0 X\n",
      "Index, p_char:  1 Z\n",
      "Index, p_char:  2 X\n",
      "Operator t:  (0.04532220205287401+0j) [X0 Z1 X2 Z3]\n",
      "Term, coeff:  ((0, 'X'), (1, 'Z'), (2, 'X'), (3, 'Z')) (0.04532220205287401+0j)\n",
      "Index, p_char:  0 X\n",
      "Index, p_char:  1 Z\n",
      "Index, p_char:  2 X\n",
      "Index, p_char:  3 Z\n",
      "Operator t:  (0.04532220205287401+0j) [Y0 Z1 Y2]\n",
      "Term, coeff:  ((0, 'Y'), (1, 'Z'), (2, 'Y')) (0.04532220205287401+0j)\n",
      "Index, p_char:  0 Y\n",
      "Index, p_char:  1 Z\n",
      "Index, p_char:  2 Y\n",
      "Operator t:  (0.12054482205301797+0j) [Z0 Z2]\n",
      "Term, coeff:  ((0, 'Z'), (2, 'Z')) (0.12054482205301797+0j)\n",
      "Index, p_char:  0 Z\n",
      "Index, p_char:  2 Z\n",
      "Operator t:  (0.165867024105892+0j) [Z0 Z1 Z2 Z3]\n",
      "Term, coeff:  ((0, 'Z'), (1, 'Z'), (2, 'Z'), (3, 'Z')) (0.165867024105892+0j)\n",
      "Index, p_char:  0 Z\n",
      "Index, p_char:  1 Z\n",
      "Index, p_char:  2 Z\n",
      "Index, p_char:  3 Z\n",
      "Operator t:  (0.165867024105892+0j) [Z0 Z1 Z2]\n",
      "Term, coeff:  ((0, 'Z'), (1, 'Z'), (2, 'Z')) (0.165867024105892+0j)\n",
      "Index, p_char:  0 Z\n",
      "Index, p_char:  1 Z\n",
      "Index, p_char:  2 Z\n",
      "Operator t:  (0.12054482205301797+0j) [Z0 Z2 Z3]\n",
      "Term, coeff:  ((0, 'Z'), (2, 'Z'), (3, 'Z')) (0.12054482205301797+0j)\n",
      "Index, p_char:  0 Z\n",
      "Index, p_char:  2 Z\n",
      "Index, p_char:  3 Z\n",
      "Operator t:  (0.17434844185575687+0j) [Z1 Z3]\n",
      "Term, coeff:  ((1, 'Z'), (3, 'Z')) (0.17434844185575687+0j)\n",
      "Index, p_char:  1 Z\n",
      "Index, p_char:  3 Z\n"
     ]
    }
   ],
   "source": [
    "from molecule import DiatomicMolecularHamiltonian\n",
    "\n",
    "hamiltonian = DiatomicMolecularHamiltonian(nqubit=6, basis=\"sto-3g\", atom1_type=\"H\", atom2_type=\"H\",\n",
    "                                        diatomic_bond_length=0.7414)"
   ],
   "metadata": {
    "collapsed": false
   }
  },
  {
   "cell_type": "code",
   "execution_count": 2,
   "outputs": [],
   "source": [
    "import tequila as tq\n",
    "\n",
    "\n",
    "def generate_molecule(atom1type, atom2type, bond_length, basis_set, active_orbitals=None):\n",
    "    geometry = (f\"{atom1type} 0.0 0.0 0.0\\n\" +\n",
    "                f\"{atom2type} 0.0 0.0 {bond_length}\")\n",
    "    if active_orbitals is not None:\n",
    "        return tq.chemistry.Molecule(geometry=geometry,\n",
    "                                     basis_set=basis_set,\n",
    "                                     active_orbitals=active_orbitals)\n",
    "    return tq.chemistry.Molecule(geometry=geometry, basis_set=basis_set)"
   ],
   "metadata": {
    "collapsed": false,
    "pycharm": {
     "is_executing": true
    }
   }
  },
  {
   "cell_type": "code",
   "execution_count": 3,
   "outputs": [
    {
     "name": "stdout",
     "output_type": "stream",
     "text": [
      "converged SCF energy = -1.11668438708534\n"
     ]
    },
    {
     "ename": "UnboundLocalError",
     "evalue": "local variable 'nqubit' referenced before assignment",
     "output_type": "error",
     "traceback": [
      "\u001B[0;31m---------------------------------------------------------------------------\u001B[0m",
      "\u001B[0;31mUnboundLocalError\u001B[0m                         Traceback (most recent call last)",
      "Cell \u001B[0;32mIn[3], line 3\u001B[0m\n\u001B[1;32m      1\u001B[0m molecule \u001B[38;5;241m=\u001B[39m generate_molecule(atom1type\u001B[38;5;241m=\u001B[39m\u001B[38;5;124m\"\u001B[39m\u001B[38;5;124mH\u001B[39m\u001B[38;5;124m\"\u001B[39m, atom2type\u001B[38;5;241m=\u001B[39m\u001B[38;5;124m\"\u001B[39m\u001B[38;5;124mH\u001B[39m\u001B[38;5;124m\"\u001B[39m,\n\u001B[1;32m      2\u001B[0m                              bond_length\u001B[38;5;241m=\u001B[39m\u001B[38;5;241m0.7414\u001B[39m, basis_set\u001B[38;5;241m=\u001B[39m\u001B[38;5;124m\"\u001B[39m\u001B[38;5;124msto-3g\u001B[39m\u001B[38;5;124m\"\u001B[39m)\n\u001B[0;32m----> 3\u001B[0m hamiltonian \u001B[38;5;241m=\u001B[39m \u001B[43mDiatomicMolecularHamiltonian\u001B[49m\u001B[43m(\u001B[49m\u001B[43mmolecule\u001B[49m\u001B[43m)\u001B[49m\n\u001B[1;32m      4\u001B[0m \u001B[38;5;28mprint\u001B[39m(hamiltonian)\n",
      "File \u001B[0;32m~/PycharmProjects/benchmark/benchmark/molecule.py:97\u001B[0m, in \u001B[0;36mDiatomicMolecularHamiltonian.__init__\u001B[0;34m(self, molecule, bravyi_kitaev, **kwargs)\u001B[0m\n\u001B[1;32m     95\u001B[0m \u001B[38;5;28;01melse\u001B[39;00m:\n\u001B[1;32m     96\u001B[0m     hamiltonian \u001B[38;5;241m=\u001B[39m molecule\u001B[38;5;241m.\u001B[39mmake_hamiltonian()\n\u001B[0;32m---> 97\u001B[0m coeffs, paulis, identity_coeff \u001B[38;5;241m=\u001B[39m parse(hamiltonian, \u001B[43mnqubit\u001B[49m)\n\u001B[1;32m     98\u001B[0m \u001B[38;5;28mself\u001B[39m\u001B[38;5;241m.\u001B[39midentity_coeff \u001B[38;5;241m=\u001B[39m identity_coeff\n\u001B[1;32m     99\u001B[0m logging\u001B[38;5;241m.\u001B[39mlog(logging\u001B[38;5;241m.\u001B[39mINFO, \u001B[38;5;124mf\u001B[39m\u001B[38;5;124m\"\u001B[39m\u001B[38;5;124m# of terms is \u001B[39m\u001B[38;5;132;01m{\u001B[39;00m\u001B[38;5;28mlen\u001B[39m(coeffs)\u001B[38;5;132;01m}\u001B[39;00m\u001B[38;5;124m\"\u001B[39m)\n",
      "\u001B[0;31mUnboundLocalError\u001B[0m: local variable 'nqubit' referenced before assignment"
     ]
    }
   ],
   "source": [
    "molecule = generate_molecule(atom1type=\"H\", atom2type=\"H\",\n",
    "                             bond_length=0.7414, basis_set=\"sto-3g\")\n",
    "hamiltonian = DiatomicMolecularHamiltonian(molecule)\n",
    "print(hamiltonian)"
   ],
   "metadata": {
    "collapsed": false
   }
  }
 ],
 "metadata": {
  "kernelspec": {
   "display_name": "Python 3",
   "language": "python",
   "name": "python3"
  },
  "language_info": {
   "codemirror_mode": {
    "name": "ipython",
    "version": 2
   },
   "file_extension": ".py",
   "mimetype": "text/x-python",
   "name": "python",
   "nbconvert_exporter": "python",
   "pygments_lexer": "ipython2",
   "version": "2.7.6"
  }
 },
 "nbformat": 4,
 "nbformat_minor": 0
}
